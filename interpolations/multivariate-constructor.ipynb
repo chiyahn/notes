{
 "cells": [
  {
   "cell_type": "code",
   "execution_count": 1,
   "metadata": {},
   "outputs": [
    {
     "data": {
      "text/plain": [
       "15"
      ]
     },
     "execution_count": 1,
     "metadata": {},
     "output_type": "execute_result"
    }
   ],
   "source": [
    "using Interpolations\n",
    "using Base.Test\n",
    "using Base.Cartesian\n",
    "\n",
    "# convenient constructors\n",
    "LinearInterpolation(ranges::NTuple{N,T}, vs) where {N,T <: Range} = extrapolate(scale(interpolate(vs, BSpline(Linear()), OnGrid()), ranges...),  Interpolations.Throw())\n",
    "LinearInterpolation(ranges::NTuple{N,T}, vs) where {N,T <: AbstractArray} = extrapolate(interpolate(ranges, vs, Gridded(Linear())),  Interpolations.Throw())\n",
    "CubicSplineInterpolation(ranges::NTuple{N,T}, vs) where {N,T <: Range} = extrapolate(scale(interpolate(vs, BSpline(Cubic(Line())), OnGrid()), ranges...),  Interpolations.Throw())\n",
    "\n",
    "# unit test setup\n",
    "XMIN = 2\n",
    "XMAX = 10\n",
    "YMIN = 1\n",
    "YMAX = 8\n",
    "ΔX = .1\n",
    "ΔY = .5\n",
    "XLEN = convert(Integer, floor((XMAX - XMIN)/ΔX) + 1)\n",
    "YLEN = convert(Integer, floor((YMAX - YMIN)/ΔY) + 1)"
   ]
  },
  {
   "cell_type": "code",
   "execution_count": 5,
   "metadata": {},
   "outputs": [
    {
     "name": "stdout",
     "output_type": "stream",
     "text": [
      "\u001b[1m\u001b[37mTest Summary:     | \u001b[39m\u001b[22m\u001b[1m\u001b[32mPass  \u001b[39m\u001b[22m\u001b[1m\u001b[36mTotal\u001b[39m\u001b[22m\n",
      "1d-interpolations | \u001b[32m  20  \u001b[39m\u001b[36m   20\u001b[39m\n"
     ]
    },
    {
     "data": {
      "text/plain": [
       "Base.Test.DefaultTestSet(\"1d-interpolations\", Any[Base.Test.DefaultTestSet(\"1d-regular-grids\", Any[], 7, false), Base.Test.DefaultTestSet(\"1d-regular-grids-cubic\", Any[], 7, false), Base.Test.DefaultTestSet(\"1d-irregular-grids\", Any[], 6, false)], 0, false)"
      ]
     },
     "execution_count": 5,
     "metadata": {},
     "output_type": "execute_result"
    }
   ],
   "source": [
    "@testset \"1d-interpolations\" begin\n",
    "    @testset \"1d-regular-grids\" begin\n",
    "        xs = XMIN:ΔX:XMAX\n",
    "        f(x) = log(x)\n",
    "        A = [f(x) for x in xs]\n",
    "        interp = LinearInterpolation((xs, ), A)\n",
    "\n",
    "        @test interp[XMIN] ≈ f(XMIN)\n",
    "        @test interp[XMAX] ≈ f(XMAX)\n",
    "        @test interp[XMIN + ΔX] ≈ f(XMIN + ΔX)\n",
    "        @test interp[XMAX - ΔX] ≈ f(XMAX - ΔX)\n",
    "        @test interp[XMIN + ΔX / 2] ≈ f(XMIN + ΔX / 2) atol=.1 \n",
    "        @test_throws BoundsError interp[XMIN - ΔX / 2]\n",
    "        @test_throws BoundsError interp[XMAX + ΔX / 2]\n",
    "    end\n",
    "\n",
    "    @testset \"1d-regular-grids-cubic\" begin\n",
    "        xs = XMIN:ΔX:XMAX\n",
    "        f(x) = log(x)\n",
    "        A = [f(x) for x in xs]\n",
    "        interp = CubicSplineInterpolation((xs, ), A)\n",
    "\n",
    "        @test interp[XMIN] ≈ f(XMIN)\n",
    "        @test interp[XMAX] ≈ f(XMAX)\n",
    "        @test interp[XMIN + ΔX] ≈ f(XMIN + ΔX)\n",
    "        @test interp[XMAX - ΔX] ≈ f(XMAX - ΔX)\n",
    "        @test interp[XMIN + ΔX / 2] ≈ f(XMIN + ΔX / 2) atol=.1 \n",
    "        @test_throws BoundsError interp[XMIN - ΔX / 2]\n",
    "        @test_throws BoundsError interp[XMAX + ΔX / 2]\n",
    "    end\n",
    "\n",
    "    @testset \"1d-irregular-grids\" begin\n",
    "        xs = [x^2 for x in XMIN:ΔX:XMAX]\n",
    "        xmin = xs[1]\n",
    "        xmax = xs[XLEN]\n",
    "        f(x) = log(x)\n",
    "        A = [f(x) for x in xs]\n",
    "        interp = LinearInterpolation((xs, ), A)\n",
    "\n",
    "        @test interp[xmin] ≈ f(xmin)\n",
    "        @test interp[xmax] ≈ f(xmax)\n",
    "        @test interp[xs[2]] ≈ f(xs[2])\n",
    "        @test interp[xmin + ΔX / 2] ≈ f(xmin + ΔX / 2) atol=.1\n",
    "        @test_throws BoundsError interp[xmin - ΔX / 2]\n",
    "        @test_throws BoundsError interp[xmax + ΔX / 2]\n",
    "    end\n",
    "end"
   ]
  },
  {
   "cell_type": "code",
   "execution_count": 6,
   "metadata": {},
   "outputs": [
    {
     "name": "stdout",
     "output_type": "stream",
     "text": [
      "\u001b[1m\u001b[37mTest Summary:     | \u001b[39m\u001b[22m\u001b[1m\u001b[32mPass  \u001b[39m\u001b[22m\u001b[1m\u001b[36mTotal\u001b[39m\u001b[22m\n",
      "2d-interpolations | \u001b[32m  36  \u001b[39m\u001b[36m   36\u001b[39m\n"
     ]
    },
    {
     "data": {
      "text/plain": [
       "Base.Test.DefaultTestSet(\"2d-interpolations\", Any[Base.Test.DefaultTestSet(\"2d-regular-grids\", Any[], 12, false), Base.Test.DefaultTestSet(\"2d-regular-grids-cubic\", Any[], 12, false), Base.Test.DefaultTestSet(\"2d-irregular-grids\", Any[], 12, false)], 0, false)"
      ]
     },
     "execution_count": 6,
     "metadata": {},
     "output_type": "execute_result"
    }
   ],
   "source": [
    "@testset \"2d-interpolations\" begin\n",
    "    @testset \"2d-regular-grids\" begin\n",
    "        xs = XMIN:ΔX:XMAX\n",
    "        ys = YMIN:ΔY:YMAX\n",
    "        f(x, y) = log(x+y)\n",
    "        A = [f(x,y) for x in xs, y in ys]\n",
    "        interp = LinearInterpolation((xs, ys), A)\n",
    "\n",
    "        @test interp[XMIN,YMIN] ≈ f(XMIN,YMIN)\n",
    "        @test interp[XMIN,YMAX] ≈ f(XMIN,YMAX)\n",
    "        @test interp[XMAX,YMIN] ≈ f(XMAX,YMIN)\n",
    "        @test interp[XMAX,YMAX] ≈ f(XMAX,YMAX)\n",
    "        @test interp[XMIN + ΔX,YMIN] ≈ f(XMIN + ΔX,YMIN)\n",
    "        @test interp[XMIN,YMIN + ΔY] ≈ f(XMIN,YMIN + ΔY)\n",
    "        @test interp[XMIN + ΔX,YMIN + ΔY] ≈ f(XMIN + ΔX,YMIN + ΔY)\n",
    "        @test interp[XMIN + ΔX / 2,YMIN + ΔY / 2] ≈ f(XMIN + ΔX / 2,YMIN + ΔY / 2) atol=.1\n",
    "        @test_throws BoundsError interp[XMIN - ΔX / 2,YMIN - ΔY / 2]\n",
    "        @test_throws BoundsError interp[XMIN - ΔX / 2,YMIN + ΔY / 2]\n",
    "        @test_throws BoundsError interp[XMIN + ΔX / 2,YMIN - ΔY / 2]\n",
    "        @test_throws BoundsError interp[XMAX + ΔX / 2,YMAX + ΔY / 2]\n",
    "    end\n",
    "\n",
    "    @testset \"2d-regular-grids-cubic\" begin\n",
    "        xs = XMIN:ΔX:XMAX\n",
    "        ys = YMIN:ΔY:YMAX\n",
    "        f(x, y) = log(x+y)\n",
    "        A = [f(x,y) for x in xs, y in ys]\n",
    "        interp = CubicSplineInterpolation((xs, ys), A)\n",
    "\n",
    "        @test interp[XMIN,YMIN] ≈ f(XMIN,YMIN)\n",
    "        @test interp[XMIN,YMAX] ≈ f(XMIN,YMAX)\n",
    "        @test interp[XMAX,YMIN] ≈ f(XMAX,YMIN)\n",
    "        @test interp[XMAX,YMAX] ≈ f(XMAX,YMAX)\n",
    "        @test interp[XMIN + ΔX,YMIN] ≈ f(XMIN + ΔX,YMIN)\n",
    "        @test interp[XMIN,YMIN + ΔY] ≈ f(XMIN,YMIN + ΔY)\n",
    "        @test interp[XMIN + ΔX,YMIN + ΔY] ≈ f(XMIN + ΔX,YMIN + ΔY)\n",
    "        @test interp[XMIN + ΔX / 2,YMIN + ΔY / 2] ≈ f(XMIN + ΔX / 2,YMIN + ΔY / 2) atol=.1\n",
    "        @test_throws BoundsError interp[XMIN - ΔX / 2,YMIN - ΔY / 2]\n",
    "        @test_throws BoundsError interp[XMIN - ΔX / 2,YMIN + ΔY / 2]\n",
    "        @test_throws BoundsError interp[XMIN + ΔX / 2,YMIN - ΔY / 2]\n",
    "        @test_throws BoundsError interp[XMAX + ΔX / 2,YMAX + ΔY / 2]\n",
    "    end\n",
    "\n",
    "    @testset \"2d-irregular-grids\" begin\n",
    "        xs = [x^2 for x in XMIN:ΔX:XMAX]\n",
    "        ys = [y^2 for y in YMIN:ΔY:YMAX]\n",
    "        xmin = xs[1]\n",
    "        xmax = xs[XLEN]\n",
    "        ymin = ys[1]\n",
    "        ymax = ys[YLEN]\n",
    "        f(x, y) = log(x+y)\n",
    "        A = [f(x,y) for x in xs, y in ys]\n",
    "        interp = LinearInterpolation((xs, ys), A)\n",
    "\n",
    "        @test interp[xmin,ymin] ≈ f(xmin,ymin)\n",
    "        @test interp[xmin,ymax] ≈ f(xmin,ymax)\n",
    "        @test interp[xmax,ymin] ≈ f(xmax,ymin)\n",
    "        @test interp[xmax,ymax] ≈ f(xmax,ymax)\n",
    "        @test interp[xs[2],ymin] ≈ f(xs[2],ymin)\n",
    "        @test interp[xmin,ys[2]] ≈ f(xmin,ys[2])\n",
    "        @test interp[xs[2],ys[2]] ≈ f(xs[2],ys[2])\n",
    "        @test interp[xmin + ΔX / 2,ymin + ΔY / 2] ≈ f(xmin + ΔX / 2,ymin + ΔY / 2) atol=.1\n",
    "        @test_throws BoundsError interp[xmin - ΔX / 2,ymin - ΔY / 2]\n",
    "        @test_throws BoundsError interp[xmin - ΔX / 2,ymin + ΔY / 2]\n",
    "        @test_throws BoundsError interp[xmin + ΔX / 2,ymin - ΔY / 2]\n",
    "        @test_throws BoundsError interp[xmax + ΔX / 2,ymax + ΔY / 2]\n",
    "    end\n",
    "end"
   ]
  }
 ],
 "metadata": {
  "kernelspec": {
   "display_name": "Julia 0.6.2",
   "language": "julia",
   "name": "julia-0.6"
  },
  "language_info": {
   "file_extension": ".jl",
   "mimetype": "application/julia",
   "name": "julia",
   "version": "0.6.2"
  }
 },
 "nbformat": 4,
 "nbformat_minor": 2
}
