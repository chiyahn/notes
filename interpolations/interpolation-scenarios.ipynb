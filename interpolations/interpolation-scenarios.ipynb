{
 "cells": [
  {
   "cell_type": "markdown",
   "metadata": {},
   "source": [
    "# Tutorial on interpolations.jl\n",
    "This document briefly illustrates how `interpolations.jl` can be used to construct interpolations in the following scenarios:"
   ]
  },
  {
   "cell_type": "markdown",
   "metadata": {},
   "source": [
    "## Interpolations on uniform grids"
   ]
  },
  {
   "cell_type": "markdown",
   "metadata": {},
   "source": [
    "### Linear interpolations"
   ]
  },
  {
   "cell_type": "code",
   "execution_count": 1,
   "metadata": {},
   "outputs": [
    {
     "data": {
      "text/plain": [
       "5-element interpolate(::Array{Float64,1}, BSpline(Linear()), OnGrid()) with element type Float64:\n",
       "  0.420735\n",
       "  0.389037\n",
       " -0.175392\n",
       " -0.499646\n",
       " -0.139708"
      ]
     },
     "execution_count": 1,
     "metadata": {},
     "output_type": "execute_result"
    }
   ],
   "source": [
    "using Interpolations, Base.Test\n",
    "using Base.Cartesian\n",
    "N = 5\n",
    "xmax = 6\n",
    "xmin = 1\n",
    "f(x) = sin(x) / 2\n",
    "\n",
    "# range definition\n",
    "xs = linspace(xmin,xmax,N)\n",
    "ys = f(xs)\n",
    "\n",
    "# construct linear interpolation\n",
    "itp = interpolate(ys, BSpline(Linear()), OnGrid())"
   ]
  },
  {
   "cell_type": "markdown",
   "metadata": {},
   "source": [
    "The resulting `itp` object assumes that the data are uniformly spaced on a grid `1:N` without scaling. To scale `itp` on the grid provided (`xs`), `scale` function has to be called. Note that the grid of interest (the second parameter of `scale`) has to be given by a collection of ranges or linspaces; thus, one cannot use irregular grids for `scale` function."
   ]
  },
  {
   "cell_type": "code",
   "execution_count": 2,
   "metadata": {},
   "outputs": [
    {
     "data": {
      "text/plain": [
       "\u001b[1m\u001b[32mTest Passed\u001b[39m\u001b[22m"
      ]
     },
     "execution_count": 2,
     "metadata": {},
     "output_type": "execute_result"
    }
   ],
   "source": [
    "# scale itp by xs\n",
    "itp_scaled = scale(itp, xs)\n",
    "\n",
    "# test if interpolation objects are in fact scaled \n",
    "dx = (xmax - xmin) / (N - 1) # distance between two grid points (assuming uniform)\n",
    "\n",
    "\n",
    "# test if linear interpolations are correctly specified\n",
    "@test itp[1.5] ≈ (f(xs[1]) + f(xs[2])) / 2\n",
    "@test itp[2.5] ≈ (f(xs[2]) + f(xs[3])) / 2\n",
    "@test itp[N-1/2] ≈ (f(xs[N]) + f(xs[N-1])) / 2\n",
    "\n",
    "# test if linear interpolations are correctly specified, after scaling\n",
    "@test itp_scaled[xmin + dx / 2] ≈ (f(xmin) + f(xmin + dx)) / 2\n",
    "@test itp_scaled[xmin + 3dx / 2] ≈ (f(xmin + dx) + f(xmin + 2dx)) / 2 \n",
    "@test itp_scaled[xmax - dx / 2] ≈ (f(xmax) + f(xmax - dx)) / 2 \n",
    "\n",
    "# test if two interpolations yield identical values when evaluated at the same point upon scaling\n",
    "@test itp_scaled[xmax] ≈ itp[N]\n",
    "@test itp_scaled[xmin + dx / 2] ≈ itp[1.5]\n",
    "@test itp_scaled[xmax - dx / 2] ≈ itp[N - .5]"
   ]
  },
  {
   "cell_type": "markdown",
   "metadata": {},
   "source": [
    "### Cubic spline interpolations\n",
    "Similar techiniques can be used for cubic spline interpolation:"
   ]
  },
  {
   "cell_type": "code",
   "execution_count": 3,
   "metadata": {
    "scrolled": true
   },
   "outputs": [
    {
     "data": {
      "text/plain": [
       "\u001b[1m\u001b[32mTest Passed\u001b[39m\u001b[22m"
      ]
     },
     "execution_count": 3,
     "metadata": {},
     "output_type": "execute_result"
    }
   ],
   "source": [
    "# construct cubic spline interpolation\n",
    "itp = interpolate(ys, BSpline(Cubic(Line())), OnGrid())\n",
    "\n",
    "# scale itp by xs\n",
    "itp_scaled = scale(itp, xs)\n",
    "\n",
    "# test if interpolation objects are in fact scaled \n",
    "dx = (xmax - xmin) / (N - 1) # distance between two grid points (assuming uniform)\n",
    "\n",
    "# test if two interpolations yield identical values when evaluated at the same point upon scaling\n",
    "@test itp_scaled[xmax] ≈ itp[N]\n",
    "@test itp_scaled[xmin + dx / 2] ≈ itp[1.5]\n",
    "@test itp_scaled[xmax - dx / 2] ≈ itp[N - .5]"
   ]
  },
  {
   "cell_type": "markdown",
   "metadata": {},
   "source": [
    "If it is most likely the case that the users provide grids that are not in a `1:N` format, we can have the following constructor instead:"
   ]
  },
  {
   "cell_type": "code",
   "execution_count": 4,
   "metadata": {},
   "outputs": [
    {
     "data": {
      "text/plain": [
       "\u001b[1m\u001b[32mTest Passed\u001b[39m\u001b[22m"
      ]
     },
     "execution_count": 4,
     "metadata": {},
     "output_type": "execute_result"
    }
   ],
   "source": [
    "function interp1(x,v,method)\n",
    "    itp = interpolate(v, BSpline(method), OnGrid())\n",
    "    return(scale(itp, x))\n",
    "end\n",
    "\n",
    "# define scaled interpolation using an alternative constructor\n",
    "itp_scaled = interp1(xs,ys,Cubic(Line()))\n",
    "\n",
    "# test if two interpolations yield identical values when evaluated at the same point upon scaling\n",
    "@test itp_scaled[xmax] ≈ itp[N]\n",
    "@test itp_scaled[xmin + dx / 2] ≈ itp[1.5]\n",
    "@test itp_scaled[xmax - dx / 2] ≈ itp[N - .5]"
   ]
  },
  {
   "cell_type": "markdown",
   "metadata": {},
   "source": [
    "### Interpolations on multivariate data\n",
    "Multivariate cases are analogous:"
   ]
  },
  {
   "cell_type": "code",
   "execution_count": 5,
   "metadata": {},
   "outputs": [
    {
     "data": {
      "text/plain": [
       "\u001b[1m\u001b[32mTest Passed\u001b[39m\u001b[22m"
      ]
     },
     "execution_count": 5,
     "metadata": {},
     "output_type": "execute_result"
    }
   ],
   "source": [
    "function interp2(x,y,v,method)\n",
    "    itp = interpolate(v, BSpline(method), OnGrid())\n",
    "    return(scale(itp, x, y))\n",
    "end\n",
    "\n",
    "# range definition\n",
    "ymax = 3\n",
    "ymin = 1\n",
    "dy = (ymax - ymin) / (N - 1) # distance between two grid points (assuming uniform)\n",
    "ys = linspace(ymin,ymax,N)\n",
    "zs = [log(x+y) for x in xs, y in ys]\n",
    "\n",
    "# construct cubic spline interpolations\n",
    "itp = interpolate(zs, BSpline(Cubic(Line())), OnGrid())\n",
    "\n",
    "# defined scaled interpolation using an alternative constructor\n",
    "itp_scaled = interp2(xs,ys,zs,Cubic(Line()))\n",
    "\n",
    "# test if two interpolations yield identical values when evaluated at the same point upon scaling\n",
    "@test itp_scaled[xmax, ymax] ≈ itp[N, N]\n",
    "@test itp_scaled[xmin + dx / 2, ymax] ≈ itp[1.5, N]\n",
    "@test itp_scaled[xmax, ymin + dy / 2] ≈ itp[N, 1.5]\n",
    "@test itp_scaled[xmin + dx / 2, ymin + dy / 2] ≈ itp[1.5, 1.5]"
   ]
  },
  {
   "cell_type": "markdown",
   "metadata": {},
   "source": [
    "\n",
    "## Interpolations on non-uniform grids\n"
   ]
  },
  {
   "cell_type": "markdown",
   "metadata": {},
   "source": [
    "### Linear interpolations\n",
    "In non-uniform grids, one can instead use gridded interpolations, which works only in linear cases:"
   ]
  },
  {
   "cell_type": "code",
   "execution_count": 6,
   "metadata": {},
   "outputs": [
    {
     "data": {
      "text/plain": [
       "\u001b[1m\u001b[32mTest Passed\u001b[39m\u001b[22m"
      ]
     },
     "execution_count": 6,
     "metadata": {},
     "output_type": "execute_result"
    }
   ],
   "source": [
    "# range definition\n",
    "xs = [x^2 for x = 1:xmax]\n",
    "ys = f(xs)\n",
    "\n",
    "# construct gridded interpolation\n",
    "itp = interpolate((xs,), ys, Gridded(Linear()))\n",
    "\n",
    "# test if linear interpolations are correctly specified\n",
    "@test itp[xs[1]] == f(xs[1])\n",
    "@test itp[xs[2]] == f(xs[2])\n",
    "@test itp[(xs[1] + xs[2]) / 2] == (f(xs[1]) + f(xs[2])) / 2"
   ]
  },
  {
   "cell_type": "markdown",
   "metadata": {},
   "source": [
    "### Cubic spline interpolations\n",
    "There is no canonical way to do this, but the following approaches will be useful:\n",
    "\n",
    "1. Construct interpolations using a recursive algorithm\n",
    "    + can be extended to BSplines with arbitrary degrees\n",
    "    + can be slow compared to case-by-case implementation based on degrees; requires substantial changes in code; more complexity as the degree increases; do people even use BSpline interpolations with more than 3 degrees?\n",
    "    + ref: https://github.com/floswald/ApproXD.jl\n",
    "\n",
    "2. Construct gridded interpolation algorithm dedicated for cubic splines\n",
    "    + can be used to efficiently construct cubic spline interpolations\n",
    "    + requires some work, but fortunately, as mentioned before, there has been a PR for this.\n",
    "    + ref: https://github.com/JuliaMath/Interpolations.jl/pull/193\n"
   ]
  },
  {
   "cell_type": "code",
   "execution_count": null,
   "metadata": {},
   "outputs": [],
   "source": []
  }
 ],
 "metadata": {
  "kernelspec": {
   "display_name": "Julia 0.6.2",
   "language": "julia",
   "name": "julia-0.6"
  },
  "language_info": {
   "file_extension": ".jl",
   "mimetype": "application/julia",
   "name": "julia",
   "version": "0.6.2"
  }
 },
 "nbformat": 4,
 "nbformat_minor": 2
}
